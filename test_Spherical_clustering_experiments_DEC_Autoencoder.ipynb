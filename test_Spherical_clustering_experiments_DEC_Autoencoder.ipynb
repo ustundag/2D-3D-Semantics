{
 "cells": [
  {
   "cell_type": "code",
   "execution_count": 1,
   "metadata": {},
   "outputs": [
    {
     "name": "stderr",
     "output_type": "stream",
     "text": [
      "Using TensorFlow backend.\n"
     ]
    }
   ],
   "source": [
    "import os\n",
    "import keras\n",
    "import metrics\n",
    "import numpy as np\n",
    "import pandas as pd\n",
    "import seaborn as sns\n",
    "\n",
    "import keras.backend as K\n",
    "import glob\n",
    "from scipy.io import loadmat \n",
    "from IPython.display import display, clear_output\n",
    "\n",
    "from time import time\n",
    "\n",
    "from keras import callbacks\n",
    "from keras.models import Model, Sequential\n",
    "from keras.optimizers import SGD\n",
    "from keras.layers import Input, Dense, Dropout, Conv2D, MaxPool2D, UpSampling2D, Activation\n",
    "from keras.initializers import VarianceScaling\n",
    "from keras.engine.topology import Layer, InputSpec\n",
    "\n",
    "from PIL import Image\n",
    "from sklearn.cluster import KMeans\n",
    "from sklearn.metrics import normalized_mutual_info_score, confusion_matrix\n",
    "\n",
    "import warnings\n",
    "warnings.simplefilter(action='ignore', category=FutureWarning)"
   ]
  },
  {
   "cell_type": "code",
   "execution_count": 2,
   "metadata": {},
   "outputs": [],
   "source": [
    "from matplotlib import pyplot as plt\n",
    "from mpl_toolkits.mplot3d import Axes3D\n",
    "\n",
    "def visualize_scatter_2D(data_2d, labels, centers):\n",
    "    fig = plt.figure(1, figsize=(10,8))\n",
    "    title = 'Ground-truth 2D view with '+str(len(set(labels)))+' clusters'\n",
    "    ax  = fig.add_subplot(1, 1, 1)\n",
    "    if labels is not None:\n",
    "        axs = ax.scatter(data_2d[:,0], data_2d[:,1], c=labels, s=10)\n",
    "    else:\n",
    "        axs = ax.scatter(data_2d[:,0], data_2d[:,1], marker='*', s=10)\n",
    "    if centers is not None:\n",
    "        axs = ax.scatter(centers[:0], centers[:1], marker='X', c='red', s=100)\n",
    "        title = '2D view - '+str(len(centers)) + ' clusters'\n",
    "    fig.colorbar(axs)\n",
    "    ax.set_xlabel('X'), ax.set_ylabel('Y')\n",
    "    ax.dist = 10\n",
    "    plt.title(title)\n",
    "    plt.show()\n",
    "    \n",
    "def visualize_scatter_3D(data_3d, labels, centers):\n",
    "    fig = plt.figure(1, figsize=(10,8))\n",
    "    title = 'Ground-truth 3D view with '+str(len(set(labels)))+' clusters'\n",
    "    ax  = fig.add_subplot(1, 1, 1, projection='3d')\n",
    "    if labels is not None:\n",
    "        axs = ax.scatter(data_3d[:,0], data_3d[:,1], data_3d[:,2], c=labels, s=10)        \n",
    "    else:\n",
    "        axs = ax.scatter(data_3d[:,0], data_3d[:,1], data_3d[:,2], marker='*', s=10)\n",
    "    if centers is not None:\n",
    "        axs = ax.scatter(centers[0], centers[1], centers[2], marker='X', c='red', s=100)\n",
    "        title = '3D view - '+str(len(centers)) + ' clusters'\n",
    "    fig.colorbar(axs)\n",
    "    ax.set_xlabel('X'), ax.set_ylabel('Y'), ax.set_zlabel('Z')\n",
    "    ax.dist = 10\n",
    "    plt.title(title)\n",
    "    plt.show()"
   ]
  },
  {
   "cell_type": "code",
   "execution_count": 3,
   "metadata": {},
   "outputs": [
    {
     "name": "stdout",
     "output_type": "stream",
     "text": [
      "(1530, 512)\n",
      "(1, 1530)\n"
     ]
    }
   ],
   "source": [
    "file = 'area_3_data_pano_spherenet_VGG16_dims_512_256_16_8_batchNorm_no_relu_after_onlyConv_weights_added.mat'\n",
    "data = loadmat(\"C:\\\\Users\\\\ustundag\\\\GitHub\\\\2D-3D-Semantics\\\\\"+file)\n",
    "images = data[\"features\"]\n",
    "labels = data[\"labels\"]\n",
    "print(images.shape)\n",
    "print(labels.shape)"
   ]
  },
  {
   "cell_type": "code",
   "execution_count": 4,
   "metadata": {},
   "outputs": [],
   "source": [
    "# Assign ground truth labels\n",
    "labels_gt = labels[0]\n",
    "# Split dataset into train and test\n",
    "x_train = images[:1230]\n",
    "x_test  = images[-300:]\n",
    "y_train = labels_gt[:1230]\n",
    "y_test  = labels_gt[-300:]"
   ]
  },
  {
   "cell_type": "code",
   "execution_count": 5,
   "metadata": {},
   "outputs": [
    {
     "data": {
      "text/plain": [
       "{0, 1, 2, 3, 4, 5, 6}"
      ]
     },
     "execution_count": 5,
     "metadata": {},
     "output_type": "execute_result"
    }
   ],
   "source": [
    "set(labels_gt)"
   ]
  },
  {
   "cell_type": "markdown",
   "metadata": {},
   "source": [
    "### KMeans Beasic Implementation"
   ]
  },
  {
   "cell_type": "code",
   "execution_count": 6,
   "metadata": {},
   "outputs": [],
   "source": [
    "km = KMeans(n_jobs=-1, n_clusters = 7, n_init=20)"
   ]
  },
  {
   "cell_type": "code",
   "execution_count": 7,
   "metadata": {},
   "outputs": [
    {
     "data": {
      "text/plain": [
       "KMeans(algorithm='auto', copy_x=True, init='k-means++', max_iter=300,\n",
       "    n_clusters=7, n_init=20, n_jobs=-1, precompute_distances='auto',\n",
       "    random_state=None, tol=0.0001, verbose=0)"
      ]
     },
     "execution_count": 7,
     "metadata": {},
     "output_type": "execute_result"
    }
   ],
   "source": [
    "km.fit(x_train)"
   ]
  },
  {
   "cell_type": "code",
   "execution_count": 8,
   "metadata": {},
   "outputs": [],
   "source": [
    "pred = km.predict(x_test)"
   ]
  },
  {
   "cell_type": "code",
   "execution_count": 9,
   "metadata": {},
   "outputs": [
    {
     "data": {
      "text/plain": [
       "{0, 1, 2, 3, 4, 6}"
      ]
     },
     "execution_count": 9,
     "metadata": {},
     "output_type": "execute_result"
    }
   ],
   "source": [
    "set(pred)"
   ]
  },
  {
   "cell_type": "code",
   "execution_count": 10,
   "metadata": {},
   "outputs": [
    {
     "data": {
      "text/plain": [
       "0.29603743034245616"
      ]
     },
     "execution_count": 10,
     "metadata": {},
     "output_type": "execute_result"
    }
   ],
   "source": [
    "normalized_mutual_info_score(y_test, pred)"
   ]
  },
  {
   "cell_type": "markdown",
   "metadata": {},
   "source": [
    "### Autoencoder + KMeans"
   ]
  },
  {
   "cell_type": "code",
   "execution_count": 11,
   "metadata": {},
   "outputs": [
    {
     "name": "stdout",
     "output_type": "stream",
     "text": [
      "_________________________________________________________________\n",
      "Layer (type)                 Output Shape              Param #   \n",
      "=================================================================\n",
      "input_1 (InputLayer)         (None, 512)               0         \n",
      "_________________________________________________________________\n",
      "dense_1 (Dense)              (None, 32)                16416     \n",
      "_________________________________________________________________\n",
      "dense_2 (Dense)              (None, 32)                1056      \n",
      "_________________________________________________________________\n",
      "dense_3 (Dense)              (None, 128)               4224      \n",
      "_________________________________________________________________\n",
      "dense_4 (Dense)              (None, 20)                2580      \n",
      "_________________________________________________________________\n",
      "dense_5 (Dense)              (None, 128)               2688      \n",
      "_________________________________________________________________\n",
      "dense_6 (Dense)              (None, 32)                4128      \n",
      "_________________________________________________________________\n",
      "dense_7 (Dense)              (None, 32)                1056      \n",
      "_________________________________________________________________\n",
      "dense_8 (Dense)              (None, 512)               16896     \n",
      "=================================================================\n",
      "Total params: 49,044\n",
      "Trainable params: 49,044\n",
      "Non-trainable params: 0\n",
      "_________________________________________________________________\n"
     ]
    }
   ],
   "source": [
    "# this is our input placeholder\n",
    "input_img = Input(shape=(512,))\n",
    "\n",
    "# \"encoded\" is the encoded representation of the input\n",
    "encoded = Dense(32, activation='relu')(input_img)\n",
    "encoded = Dense(32, activation='relu')(encoded)\n",
    "encoded = Dense(128, activation='relu')(encoded)\n",
    "encoded = Dense(20, activation='sigmoid')(encoded)\n",
    "\n",
    "# \"decoded\" is the lossy reconstruction of the input\n",
    "decoded = Dense(128, activation='relu')(encoded)\n",
    "decoded = Dense(32, activation='relu')(decoded)\n",
    "decoded = Dense(32, activation='relu')(decoded)\n",
    "decoded = Dense(512)(decoded)\n",
    "\n",
    "# this model maps an input to its reconstruction\n",
    "autoencoder = Model(input_img, decoded)\n",
    "autoencoder.summary()"
   ]
  },
  {
   "cell_type": "code",
   "execution_count": 12,
   "metadata": {},
   "outputs": [],
   "source": [
    "#  this model maps an input to its encoded representation\n",
    "encoder = Model(input_img, encoded)\n",
    "autoencoder.compile(optimizer='adam', loss='mse')"
   ]
  },
  {
   "cell_type": "code",
   "execution_count": 13,
   "metadata": {
    "scrolled": true
   },
   "outputs": [
    {
     "name": "stdout",
     "output_type": "stream",
     "text": [
      "Train on 1230 samples, validate on 300 samples\n",
      "Epoch 1/50\n",
      "1230/1230 [==============================] - 0s 317us/step - loss: 219.5510 - val_loss: 366.9488\n",
      "Epoch 2/50\n",
      "1230/1230 [==============================] - 0s 102us/step - loss: 178.1359 - val_loss: 259.4491\n",
      "Epoch 3/50\n",
      "1230/1230 [==============================] - 0s 102us/step - loss: 104.2391 - val_loss: 169.2681\n",
      "Epoch 4/50\n",
      "1230/1230 [==============================] - 0s 102us/step - loss: 74.9808 - val_loss: 126.7454\n",
      "Epoch 5/50\n",
      "1230/1230 [==============================] - 0s 104us/step - loss: 68.2662 - val_loss: 112.3090\n",
      "Epoch 6/50\n",
      "1230/1230 [==============================] - 0s 103us/step - loss: 65.6371 - val_loss: 107.1951\n",
      "Epoch 7/50\n",
      "1230/1230 [==============================] - 0s 104us/step - loss: 64.9327 - val_loss: 105.8688\n",
      "Epoch 8/50\n",
      "1230/1230 [==============================] - 0s 94us/step - loss: 63.6931 - val_loss: 105.7076\n",
      "Epoch 9/50\n",
      "1230/1230 [==============================] - 0s 103us/step - loss: 61.8157 - val_loss: 98.8580\n",
      "Epoch 10/50\n",
      "1230/1230 [==============================] - 0s 114us/step - loss: 60.1565 - val_loss: 95.8062\n",
      "Epoch 11/50\n",
      "1230/1230 [==============================] - 0s 89us/step - loss: 59.1772 - val_loss: 97.1251\n",
      "Epoch 12/50\n",
      "1230/1230 [==============================] - 0s 102us/step - loss: 57.9964 - val_loss: 96.8686\n",
      "Epoch 13/50\n",
      "1230/1230 [==============================] - 0s 102us/step - loss: 56.8442 - val_loss: 97.0876\n",
      "Epoch 14/50\n",
      "1230/1230 [==============================] - 0s 102us/step - loss: 54.9742 - val_loss: 99.1724\n",
      "Epoch 15/50\n",
      "1230/1230 [==============================] - 0s 102us/step - loss: 52.3729 - val_loss: 98.3200\n",
      "Epoch 16/50\n",
      "1230/1230 [==============================] - 0s 89us/step - loss: 49.7912 - val_loss: 92.7336\n",
      "Epoch 17/50\n",
      "1230/1230 [==============================] - 0s 102us/step - loss: 47.1046 - val_loss: 86.6259\n",
      "Epoch 18/50\n",
      "1230/1230 [==============================] - 0s 102us/step - loss: 44.8887 - val_loss: 82.4309\n",
      "Epoch 19/50\n",
      "1230/1230 [==============================] - 0s 102us/step - loss: 42.5682 - val_loss: 78.5655\n",
      "Epoch 20/50\n",
      "1230/1230 [==============================] - 0s 102us/step - loss: 40.3077 - val_loss: 72.2729\n",
      "Epoch 21/50\n",
      "1230/1230 [==============================] - 0s 102us/step - loss: 38.6726 - val_loss: 72.1472\n",
      "Epoch 22/50\n",
      "1230/1230 [==============================] - 0s 89us/step - loss: 37.4908 - val_loss: 68.4835\n",
      "Epoch 23/50\n",
      "1230/1230 [==============================] - 0s 102us/step - loss: 36.6902 - val_loss: 65.7801\n",
      "Epoch 24/50\n",
      "1230/1230 [==============================] - 0s 102us/step - loss: 35.8086 - val_loss: 65.0895\n",
      "Epoch 25/50\n",
      "1230/1230 [==============================] - 0s 103us/step - loss: 34.9081 - val_loss: 64.8328\n",
      "Epoch 26/50\n",
      "1230/1230 [==============================] - 0s 102us/step - loss: 34.3540 - val_loss: 61.9063\n",
      "Epoch 27/50\n",
      "1230/1230 [==============================] - 0s 90us/step - loss: 33.5944 - val_loss: 62.2360\n",
      "Epoch 28/50\n",
      "1230/1230 [==============================] - 0s 102us/step - loss: 32.7586 - val_loss: 61.6887\n",
      "Epoch 29/50\n",
      "1230/1230 [==============================] - 0s 102us/step - loss: 32.1695 - val_loss: 60.0085\n",
      "Epoch 30/50\n",
      "1230/1230 [==============================] - 0s 102us/step - loss: 31.7521 - val_loss: 60.3543\n",
      "Epoch 31/50\n",
      "1230/1230 [==============================] - 0s 89us/step - loss: 31.4138 - val_loss: 59.9962\n",
      "Epoch 32/50\n",
      "1230/1230 [==============================] - 0s 102us/step - loss: 30.8757 - val_loss: 65.6674\n",
      "Epoch 33/50\n",
      "1230/1230 [==============================] - 0s 102us/step - loss: 30.3676 - val_loss: 59.4209\n",
      "Epoch 34/50\n",
      "1230/1230 [==============================] - 0s 98us/step - loss: 29.9123 - val_loss: 63.0758\n",
      "Epoch 35/50\n",
      "1230/1230 [==============================] - 0s 102us/step - loss: 29.5697 - val_loss: 58.4406\n",
      "Epoch 36/50\n",
      "1230/1230 [==============================] - 0s 108us/step - loss: 29.1313 - val_loss: 61.6488\n",
      "Epoch 37/50\n",
      "1230/1230 [==============================] - 0s 91us/step - loss: 28.7831 - val_loss: 60.6824\n",
      "Epoch 38/50\n",
      "1230/1230 [==============================] - 0s 103us/step - loss: 28.3871 - val_loss: 63.1317\n",
      "Epoch 39/50\n",
      "1230/1230 [==============================] - 0s 102us/step - loss: 27.9240 - val_loss: 58.5670\n",
      "Epoch 40/50\n",
      "1230/1230 [==============================] - 0s 102us/step - loss: 27.6824 - val_loss: 63.9301\n",
      "Epoch 41/50\n",
      "1230/1230 [==============================] - 0s 89us/step - loss: 27.4278 - val_loss: 61.9699\n",
      "Epoch 42/50\n",
      "1230/1230 [==============================] - 0s 102us/step - loss: 26.9147 - val_loss: 58.6872\n",
      "Epoch 43/50\n",
      "1230/1230 [==============================] - 0s 89us/step - loss: 26.7176 - val_loss: 62.6231\n",
      "Epoch 44/50\n",
      "1230/1230 [==============================] - 0s 102us/step - loss: 26.3489 - val_loss: 59.6239\n",
      "Epoch 45/50\n",
      "1230/1230 [==============================] - 0s 102us/step - loss: 26.0538 - val_loss: 57.2057\n",
      "Epoch 46/50\n",
      "1230/1230 [==============================] - 0s 89us/step - loss: 25.7962 - val_loss: 59.3770\n",
      "Epoch 47/50\n",
      "1230/1230 [==============================] - 0s 102us/step - loss: 25.5660 - val_loss: 61.3481\n",
      "Epoch 48/50\n",
      "1230/1230 [==============================] - 0s 109us/step - loss: 25.2708 - val_loss: 58.0373\n",
      "Epoch 49/50\n",
      "1230/1230 [==============================] - 0s 102us/step - loss: 24.7402 - val_loss: 56.1503\n",
      "Epoch 50/50\n",
      "1230/1230 [==============================] - 0s 90us/step - loss: 24.3381 - val_loss: 53.7472\n"
     ]
    }
   ],
   "source": [
    "train_history = autoencoder.fit(x_train, x_train,\n",
    "                                epochs=50,\n",
    "                                batch_size=32,\n",
    "                                shuffle=True,\n",
    "                                validation_data=(x_test, x_test))"
   ]
  },
  {
   "cell_type": "code",
   "execution_count": 14,
   "metadata": {},
   "outputs": [],
   "source": [
    "pred_auto_train = encoder.predict(x_train)\n",
    "pred_auto = encoder.predict(x_test)"
   ]
  },
  {
   "cell_type": "code",
   "execution_count": 15,
   "metadata": {},
   "outputs": [],
   "source": [
    "km.fit(pred_auto_train)\n",
    "pred = km.predict(pred_auto)"
   ]
  },
  {
   "cell_type": "code",
   "execution_count": 16,
   "metadata": {},
   "outputs": [
    {
     "data": {
      "text/plain": [
       "{0, 1, 2, 3, 4, 5, 6}"
      ]
     },
     "execution_count": 16,
     "metadata": {},
     "output_type": "execute_result"
    }
   ],
   "source": [
    "set(pred)"
   ]
  },
  {
   "cell_type": "code",
   "execution_count": 21,
   "metadata": {},
   "outputs": [
    {
     "data": {
      "text/plain": [
       "(300,)"
      ]
     },
     "execution_count": 21,
     "metadata": {},
     "output_type": "execute_result"
    }
   ],
   "source": [
    "y_test.shape"
   ]
  },
  {
   "cell_type": "code",
   "execution_count": 22,
   "metadata": {},
   "outputs": [
    {
     "name": "stdout",
     "output_type": "stream",
     "text": [
      "Score:  0.28155951158439657\n"
     ]
    },
    {
     "data": {
      "image/png": "[encoded data removed]",
      "text/plain": [
       "<Figure size 720x576 with 2 Axes>"
      ]
     },
     "metadata": {
      "needs_background": "light"
     },
     "output_type": "display_data"
    }
   ],
   "source": [
    "%matplotlib inline\n",
    "print('Score: ',normalized_mutual_info_score(y_test, pred))\n",
    "visualize_scatter_3D(pred_auto, labels=pred, centers=None)"
   ]
  },
  {
   "cell_type": "markdown",
   "metadata": {},
   "source": [
    "### Deep Embedded Clustering (DEC) implementation"
   ]
  },
  {
   "cell_type": "code",
   "execution_count": 23,
   "metadata": {},
   "outputs": [],
   "source": [
    "from time import time\n",
    "import numpy as np\n",
    "import keras.backend as K\n",
    "from keras.engine.topology import Layer, InputSpec\n",
    "from keras.layers import Dense, Input\n",
    "from keras.models import Model\n",
    "from keras.optimizers import SGD\n",
    "from keras import callbacks\n",
    "from keras.initializers import VarianceScaling\n",
    "from sklearn.cluster import KMeans"
   ]
  },
  {
   "cell_type": "code",
   "execution_count": 24,
   "metadata": {},
   "outputs": [],
   "source": [
    "\"\"\"\n",
    "Keras implementation for Deep Embedded Clustering (DEC) algorithm:\n",
    "\n",
    "Original Author:\n",
    "    Xifeng Guo. 2017.1.30\n",
    "\"\"\"\n",
    "\n",
    "def autoencoder(dims, act='relu', init='glorot_uniform'):\n",
    "    \"\"\"\n",
    "    Fully connected auto-encoder model, symmetric.\n",
    "    Arguments:\n",
    "        dims: list of number of units in each layer of encoder. dims[0] is input dim, dims[-1] is units in hidden layer.\n",
    "            The decoder is symmetric with encoder. So number of layers of the auto-encoder is 2*len(dims)-1\n",
    "        act: activation, not applied to Input, Hidden and Output layers\n",
    "    return:\n",
    "        (ae_model, encoder_model), Model of autoencoder and model of encoder\n",
    "    \"\"\"\n",
    "    n_stacks = len(dims) - 1\n",
    "    # input\n",
    "    x = Input(shape=(dims[0],), name='input')\n",
    "    h = x\n",
    "\n",
    "    # internal layers in encoder\n",
    "    for i in range(n_stacks-1):\n",
    "        h = Dense(dims[i + 1], activation=act, kernel_initializer=init, name='encoder_%d' % i)(h)\n",
    "\n",
    "    # hidden layer\n",
    "    h = Dense(dims[-1], kernel_initializer=init, name='encoder_%d' % (n_stacks - 1))(h)  # hidden layer, features are extracted from here\n",
    "\n",
    "    y = h\n",
    "    # internal layers in decoder\n",
    "    for i in range(n_stacks-1, 0, -1):\n",
    "        y = Dense(dims[i], activation=act, kernel_initializer=init, name='decoder_%d' % i)(y)\n",
    "\n",
    "    # output\n",
    "    y = Dense(dims[0], kernel_initializer=init, name='decoder_0')(y)\n",
    "\n",
    "    return Model(inputs=x, outputs=y, name='AE'), Model(inputs=x, outputs=h, name='encoder')\n",
    "\n",
    "\n",
    "class ClusteringLayer(Layer):\n",
    "    \"\"\"\n",
    "    Clustering layer converts input sample (feature) to soft label, i.e. a vector that represents the probability of the\n",
    "    sample belonging to each cluster. The probability is calculated with student's t-distribution.\n",
    "\n",
    "    # Example\n",
    "    ```\n",
    "        model.add(ClusteringLayer(n_clusters=6))\n",
    "    ```\n",
    "    # Arguments\n",
    "        n_clusters: number of clusters.\n",
    "        weights: list of Numpy array with shape `(n_clusters, n_features)` witch represents the initial cluster centers.\n",
    "        alpha: parameter in Student's t-distribution. Default to 1.0.\n",
    "    # Input shape\n",
    "        2D tensor with shape: `(n_samples, n_features)`.\n",
    "    # Output shape\n",
    "        2D tensor with shape: `(n_samples, n_clusters)`.\n",
    "    \"\"\"\n",
    "\n",
    "    def __init__(self, n_clusters, weights=None, alpha=1.0, **kwargs):\n",
    "        if 'input_shape' not in kwargs and 'input_dim' in kwargs:\n",
    "            kwargs['input_shape'] = (kwargs.pop('input_dim'),)\n",
    "        super(ClusteringLayer, self).__init__(**kwargs)\n",
    "        self.n_clusters = n_clusters\n",
    "        self.alpha = alpha\n",
    "        self.initial_weights = weights\n",
    "        self.input_spec = InputSpec(ndim=2)\n",
    "\n",
    "    def build(self, input_shape):\n",
    "        assert len(input_shape) == 2\n",
    "        input_dim = input_shape[1]\n",
    "        self.input_spec = InputSpec(dtype=K.floatx(), shape=(None, input_dim))\n",
    "        self.clusters = self.add_weight((self.n_clusters, input_dim), initializer='glorot_uniform', name='clusters')\n",
    "        if self.initial_weights is not None:\n",
    "            self.set_weights(self.initial_weights)\n",
    "            del self.initial_weights\n",
    "        self.built = True\n",
    "\n",
    "    def call(self, inputs, **kwargs):\n",
    "        \"\"\" student t-distribution, as same as used in t-SNE algorithm.\n",
    "                 q_ij = 1/(1+dist(x_i, u_j)^2), then normalize it.\n",
    "        Arguments:\n",
    "            inputs: the variable containing data, shape=(n_samples, n_features)\n",
    "        Return:\n",
    "            q: student's t-distribution, or soft labels for each sample. shape=(n_samples, n_clusters)\n",
    "        \"\"\"\n",
    "        q = 1.0 / (1.0 + (K.sum(K.square(K.expand_dims(inputs, axis=1) - self.clusters), axis=2) / self.alpha))\n",
    "        q **= (self.alpha + 1.0) / 2.0\n",
    "        q = K.transpose(K.transpose(q) / K.sum(q, axis=1))\n",
    "        return q\n",
    "\n",
    "    def compute_output_shape(self, input_shape):\n",
    "        assert input_shape and len(input_shape) == 2\n",
    "        return input_shape[0], self.n_clusters\n",
    "\n",
    "    def get_config(self):\n",
    "        config = {'n_clusters': self.n_clusters}\n",
    "        base_config = super(ClusteringLayer, self).get_config()\n",
    "        return dict(list(base_config.items()) + list(config.items()))\n",
    "\n",
    "\n",
    "class DEC(object):\n",
    "    def __init__(self,\n",
    "                 dims,\n",
    "                 n_clusters=6,\n",
    "                 alpha=1.0,\n",
    "                 init='glorot_uniform'):\n",
    "\n",
    "        super(DEC, self).__init__()\n",
    "\n",
    "        self.dims = dims\n",
    "        self.input_dim = dims[0]\n",
    "        self.n_stacks = len(self.dims) - 1\n",
    "\n",
    "        self.n_clusters = n_clusters\n",
    "        self.alpha = alpha\n",
    "        self.autoencoder, self.encoder = autoencoder(self.dims, init=init)\n",
    "\n",
    "        # prepare DEC model\n",
    "        clustering_layer = ClusteringLayer(self.n_clusters, name='clustering')(self.encoder.output)\n",
    "        self.model = Model(inputs=self.encoder.input, outputs=clustering_layer)\n",
    "\n",
    "    def pretrain(self, x, y=None, optimizer='adam', epochs=200, batch_size=256, save_dir='results/temp'):\n",
    "        print('...Pretraining...')\n",
    "        self.autoencoder.compile(optimizer=optimizer, loss='mse')\n",
    "\n",
    "        csv_logger = callbacks.CSVLogger(save_dir + '/pretrain_log.csv')\n",
    "        cb = [csv_logger]\n",
    "        if y is not None:\n",
    "            class PrintACC(callbacks.Callback):\n",
    "                def __init__(self, x, y):\n",
    "                    self.x = x\n",
    "                    self.y = y\n",
    "                    super(PrintACC, self).__init__()\n",
    "\n",
    "                def on_epoch_end(self, epoch, logs=None):\n",
    "                    if epoch % int(epochs/10) != 0:\n",
    "                        return\n",
    "                    feature_model = Model(self.model.input,\n",
    "                                          self.model.get_layer(\n",
    "                                              'encoder_%d' % (int(len(self.model.layers) / 2) - 1)).output)\n",
    "                    features = feature_model.predict(self.x)\n",
    "                    km = KMeans(n_clusters=len(np.unique(self.y)), n_init=20, n_jobs=4)\n",
    "                    y_pred = km.fit_predict(features)\n",
    "                    # print()\n",
    "                    print(' '*8 + '|==>  acc: %.4f,  nmi: %.4f  <==|'\n",
    "                          % (metrics.acc(self.y, y_pred), metrics.nmi(self.y, y_pred)))\n",
    "\n",
    "            cb.append(PrintACC(x, y))\n",
    "\n",
    "        # begin pretraining\n",
    "        t0 = time()\n",
    "        self.autoencoder.fit(x, x, batch_size=batch_size, epochs=epochs, callbacks=cb)\n",
    "        print('Pretraining time: ', time() - t0)\n",
    "        self.autoencoder.save_weights(save_dir + '/ae_weights.h5')\n",
    "        print('Pretrained weights are saved to %s/ae_weights.h5' % save_dir)\n",
    "        self.pretrained = True\n",
    "\n",
    "    def load_weights(self, weights):  # load weights of DEC model\n",
    "        self.model.load_weights(weights)\n",
    "\n",
    "    def extract_features(self, x):\n",
    "        return self.encoder.predict(x)\n",
    "\n",
    "    def predict(self, x):  # predict cluster labels using the output of clustering layer\n",
    "        q = self.model.predict(x, verbose=0)\n",
    "        return q.argmax(1)\n",
    "\n",
    "    @staticmethod\n",
    "    def target_distribution(q):\n",
    "        weight = q ** 2 / q.sum(0)\n",
    "        return (weight.T / weight.sum(1)).T\n",
    "\n",
    "    def compile(self, optimizer='sgd', loss='kld'):\n",
    "        self.model.compile(optimizer=optimizer, loss=loss)\n",
    "\n",
    "    def fit(self, x, y=None, maxiter=2e4, batch_size=256, tol=1e-3,\n",
    "            update_interval=140, save_dir='./results/temp'):\n",
    "\n",
    "        print('Update interval', update_interval)\n",
    "        save_interval = x.shape[0] / batch_size * 5  # 5 epochs\n",
    "        print('Save interval', save_interval)\n",
    "\n",
    "        # Step 1: initialize cluster centers using k-means\n",
    "        t1 = time()\n",
    "        print('Initializing cluster centers with k-means.')\n",
    "        kmeans = KMeans(n_clusters=self.n_clusters, n_init=20)\n",
    "        y_pred = kmeans.fit_predict(self.encoder.predict(x))\n",
    "        y_pred_last = np.copy(y_pred)\n",
    "        self.model.get_layer(name='clustering').set_weights([kmeans.cluster_centers_])\n",
    "\n",
    "        # Step 2: deep clustering\n",
    "        # logging file\n",
    "        import csv\n",
    "        logfile = open(save_dir + '/dec_log.csv', 'w')\n",
    "        logwriter = csv.DictWriter(logfile, fieldnames=['iter', 'acc', 'nmi', 'ari', 'loss'])\n",
    "        logwriter.writeheader()\n",
    "\n",
    "        loss = 0\n",
    "        index = 0\n",
    "        index_array = np.arange(x.shape[0])\n",
    "        for ite in range(int(maxiter)):\n",
    "            if ite % update_interval == 0:\n",
    "                q = self.model.predict(x, verbose=0)\n",
    "                p = self.target_distribution(q)  # update the auxiliary target distribution p\n",
    "\n",
    "                # evaluate the clustering performance\n",
    "                y_pred = q.argmax(1)\n",
    "                if y is not None:\n",
    "                    acc = np.round(metrics.acc(y, y_pred), 5)\n",
    "                    nmi = np.round(metrics.nmi(y, y_pred), 5)\n",
    "                    ari = np.round(metrics.ari(y, y_pred), 5)\n",
    "                    loss = np.round(loss, 5)\n",
    "                    logdict = dict(iter=ite, acc=acc, nmi=nmi, ari=ari, loss=loss)\n",
    "                    logwriter.writerow(logdict)\n",
    "                    print('Iter %d: acc = %.5f, nmi = %.5f, ari = %.5f' % (ite, acc, nmi, ari), ' ; loss=', loss)\n",
    "\n",
    "                # check stop criterion\n",
    "                delta_label = np.sum(y_pred != y_pred_last).astype(np.float32) / y_pred.shape[0]\n",
    "                y_pred_last = np.copy(y_pred)\n",
    "                if ite > 0 and delta_label < tol:\n",
    "                    print('delta_label ', delta_label, '< tol ', tol)\n",
    "                    print('Reached tolerance threshold. Stopping training.')\n",
    "                    logfile.close()\n",
    "                    break\n",
    "\n",
    "            # train on batch\n",
    "            # if index == 0:\n",
    "            #     np.random.shuffle(index_array)\n",
    "            idx = index_array[index * batch_size: min((index+1) * batch_size, x.shape[0])]\n",
    "            self.model.train_on_batch(x=x[idx], y=p[idx])\n",
    "            index = index + 1 if (index + 1) * batch_size <= x.shape[0] else 0\n",
    "\n",
    "            # save intermediate model\n",
    "            if ite % save_interval == 0:\n",
    "                print('saving model to:', save_dir + '/DEC_model_' + str(ite) + '.h5')\n",
    "                self.model.save_weights(save_dir + '/DEC_model_' + str(ite) + '.h5')\n",
    "\n",
    "            ite += 1\n",
    "\n",
    "        # save the trained model\n",
    "        logfile.close()\n",
    "        print('saving model to:', save_dir + '/DEC_model_final.h5')\n",
    "        self.model.save_weights(save_dir + '/DEC_model_final.h5')\n",
    "\n",
    "        return y_pred"
   ]
  },
  {
   "cell_type": "code",
   "execution_count": 26,
   "metadata": {
    "scrolled": true
   },
   "outputs": [
    {
     "name": "stdout",
     "output_type": "stream",
     "text": [
      "...Pretraining...\n",
      "Epoch 1/50\n",
      "1230/1230 [==============================] - 0s 325us/step - loss: 208.2651\n",
      "        |==>  acc: 0.3423,  nmi: 0.1778  <==|\n",
      "Epoch 2/50\n",
      "1230/1230 [==============================] - 0s 89us/step - loss: 102.3913\n",
      "Epoch 3/50\n",
      "1230/1230 [==============================] - 0s 90us/step - loss: 63.9181\n",
      "Epoch 4/50\n",
      "1230/1230 [==============================] - 0s 102us/step - loss: 63.0130\n",
      "Epoch 5/50\n",
      "1230/1230 [==============================] - 0s 89us/step - loss: 62.1556\n",
      "Epoch 6/50\n",
      "1230/1230 [==============================] - 0s 102us/step - loss: 58.5007\n",
      "        |==>  acc: 0.2919,  nmi: 0.1720  <==|\n",
      "Epoch 7/50\n",
      "1230/1230 [==============================] - 0s 89us/step - loss: 49.8592\n",
      "Epoch 8/50\n",
      "1230/1230 [==============================] - 0s 102us/step - loss: 45.3545\n",
      "Epoch 9/50\n",
      "1230/1230 [==============================] - 0s 102us/step - loss: 43.8222\n",
      "Epoch 10/50\n",
      "1230/1230 [==============================] - 0s 89us/step - loss: 41.8063\n",
      "Epoch 11/50\n",
      "1230/1230 [==============================] - 0s 89us/step - loss: 38.0514\n",
      "        |==>  acc: 0.3154,  nmi: 0.1916  <==|\n",
      "Epoch 12/50\n",
      "1230/1230 [==============================] - 0s 90us/step - loss: 33.3771\n",
      "Epoch 13/50\n",
      "1230/1230 [==============================] - 0s 89us/step - loss: 30.8827\n",
      "Epoch 14/50\n",
      "1230/1230 [==============================] - 0s 90us/step - loss: 29.8016\n",
      "Epoch 15/50\n",
      "1230/1230 [==============================] - 0s 102us/step - loss: 28.6775\n",
      "Epoch 16/50\n",
      "1230/1230 [==============================] - 0s 89us/step - loss: 27.6297\n",
      "        |==>  acc: 0.2951,  nmi: 0.1835  <==|\n",
      "Epoch 17/50\n",
      "1230/1230 [==============================] - 0s 89us/step - loss: 26.6323\n",
      "Epoch 18/50\n",
      "1230/1230 [==============================] - 0s 90us/step - loss: 25.7125\n",
      "Epoch 19/50\n",
      "1230/1230 [==============================] - 0s 102us/step - loss: 25.0847\n",
      "Epoch 20/50\n",
      "1230/1230 [==============================] - 0s 89us/step - loss: 24.3148\n",
      "Epoch 21/50\n",
      "1230/1230 [==============================] - 0s 89us/step - loss: 23.7442\n",
      "        |==>  acc: 0.3390,  nmi: 0.1656  <==|\n",
      "Epoch 22/50\n",
      "1230/1230 [==============================] - 0s 89us/step - loss: 23.4888\n",
      "Epoch 23/50\n",
      "1230/1230 [==============================] - 0s 89us/step - loss: 23.0205\n",
      "Epoch 24/50\n",
      "1230/1230 [==============================] - 0s 89us/step - loss: 22.7309\n",
      "Epoch 25/50\n",
      "1230/1230 [==============================] - 0s 89us/step - loss: 22.6270\n",
      "Epoch 26/50\n",
      "1230/1230 [==============================] - 0s 89us/step - loss: 22.2589\n",
      "        |==>  acc: 0.3260,  nmi: 0.1691  <==|\n",
      "Epoch 27/50\n",
      "1230/1230 [==============================] - 0s 96us/step - loss: 21.9690\n",
      "Epoch 28/50\n",
      "1230/1230 [==============================] - 0s 102us/step - loss: 21.8165\n",
      "Epoch 29/50\n",
      "1230/1230 [==============================] - 0s 90us/step - loss: 21.5367\n",
      "Epoch 30/50\n",
      "1230/1230 [==============================] - 0s 106us/step - loss: 21.3109\n",
      "Epoch 31/50\n",
      "1230/1230 [==============================] - ETA: 0s - loss: 20.62 - 0s 91us/step - loss: 21.1150\n",
      "        |==>  acc: 0.3244,  nmi: 0.1735  <==|\n",
      "Epoch 32/50\n",
      "1230/1230 [==============================] - 0s 89us/step - loss: 21.0375\n",
      "Epoch 33/50\n",
      "1230/1230 [==============================] - 0s 102us/step - loss: 20.8826\n",
      "Epoch 34/50\n",
      "1230/1230 [==============================] - 0s 102us/step - loss: 20.7468\n",
      "Epoch 35/50\n",
      "1230/1230 [==============================] - 0s 103us/step - loss: 20.6907\n",
      "Epoch 36/50\n",
      "1230/1230 [==============================] - 0s 89us/step - loss: 20.6243\n",
      "        |==>  acc: 0.3122,  nmi: 0.1692  <==|\n",
      "Epoch 37/50\n",
      "1230/1230 [==============================] - 0s 85us/step - loss: 20.6840\n",
      "Epoch 38/50\n",
      "1230/1230 [==============================] - 0s 89us/step - loss: 20.4786\n",
      "Epoch 39/50\n",
      "1230/1230 [==============================] - 0s 90us/step - loss: 20.3284\n",
      "Epoch 40/50\n",
      "1230/1230 [==============================] - 0s 89us/step - loss: 20.2643\n",
      "Epoch 41/50\n",
      "1230/1230 [==============================] - 0s 102us/step - loss: 20.2262\n",
      "        |==>  acc: 0.3106,  nmi: 0.1675  <==|\n",
      "Epoch 42/50\n",
      "1230/1230 [==============================] - 0s 89us/step - loss: 20.1630\n",
      "Epoch 43/50\n",
      "1230/1230 [==============================] - 0s 103us/step - loss: 20.0251\n",
      "Epoch 44/50\n",
      "1230/1230 [==============================] - 0s 89us/step - loss: 19.7870\n",
      "Epoch 45/50\n",
      "1230/1230 [==============================] - 0s 102us/step - loss: 19.7559\n",
      "Epoch 46/50\n",
      "1230/1230 [==============================] - 0s 114us/step - loss: 19.5788\n",
      "        |==>  acc: 0.3089,  nmi: 0.1684  <==|\n",
      "Epoch 47/50\n",
      "1230/1230 [==============================] - 0s 102us/step - loss: 19.5078\n",
      "Epoch 48/50\n",
      "1230/1230 [==============================] - 0s 89us/step - loss: 19.4241\n",
      "Epoch 49/50\n",
      "1230/1230 [==============================] - 0s 102us/step - loss: 19.1617\n",
      "Epoch 50/50\n",
      "1230/1230 [==============================] - 0s 102us/step - loss: 18.99870s - loss: 19.\n",
      "Pretraining time:  24.451048612594604\n",
      "Pretrained weights are saved to results/ae_weights.h5\n"
     ]
    }
   ],
   "source": [
    "import sys\n",
    "sys.path.insert(0, 'Deep_Embedding_Clustering')\n",
    "from main_notebooks_old.Deep_Embedding_Clustering import metrics\n",
    "\n",
    "# setting the hyper parameters\n",
    "init = 'glorot_uniform'\n",
    "pretrain_optimizer = 'adam'\n",
    "dataset = 'mnist'\n",
    "batch_size = 32\n",
    "maxiter = 2e4\n",
    "tol = 0.001\n",
    "save_dir = 'results'\n",
    "\n",
    "import os\n",
    "if not os.path.exists(save_dir):\n",
    "    os.makedirs(save_dir)\n",
    "\n",
    "update_interval = 200\n",
    "pretrain_epochs = 50\n",
    "init = VarianceScaling(scale=1. / 3., mode='fan_in',\n",
    "                       distribution='uniform')  # [-limit, limit], limit=sqrt(1./fan_in)\n",
    "#pretrain_optimizer = SGD(lr=1, momentum=0.9)\n",
    "\n",
    "\n",
    "# prepare the DEC model\n",
    "dec = DEC(dims=[x_train.shape[-1], 32, 32, 128, 20], n_clusters=7, init=init)\n",
    "\n",
    "dec.pretrain(x=x_train, y=y_train, optimizer=pretrain_optimizer,\n",
    "             epochs=pretrain_epochs, batch_size=batch_size,\n",
    "             save_dir=save_dir)"
   ]
  },
  {
   "cell_type": "code",
   "execution_count": 27,
   "metadata": {},
   "outputs": [
    {
     "name": "stdout",
     "output_type": "stream",
     "text": [
      "_________________________________________________________________\n",
      "Layer (type)                 Output Shape              Param #   \n",
      "=================================================================\n",
      "input (InputLayer)           (None, 512)               0         \n",
      "_________________________________________________________________\n",
      "encoder_0 (Dense)            (None, 32)                16416     \n",
      "_________________________________________________________________\n",
      "encoder_1 (Dense)            (None, 32)                1056      \n",
      "_________________________________________________________________\n",
      "encoder_2 (Dense)            (None, 128)               4224      \n",
      "_________________________________________________________________\n",
      "encoder_3 (Dense)            (None, 20)                2580      \n",
      "_________________________________________________________________\n",
      "clustering (ClusteringLayer) (None, 7)                 140       \n",
      "=================================================================\n",
      "Total params: 24,416\n",
      "Trainable params: 24,416\n",
      "Non-trainable params: 0\n",
      "_________________________________________________________________\n"
     ]
    }
   ],
   "source": [
    "dec.model.summary()"
   ]
  },
  {
   "cell_type": "code",
   "execution_count": 28,
   "metadata": {},
   "outputs": [],
   "source": [
    "dec.compile(optimizer=SGD(0.01, 0.9), loss='kld')"
   ]
  },
  {
   "cell_type": "code",
   "execution_count": 29,
   "metadata": {},
   "outputs": [
    {
     "name": "stdout",
     "output_type": "stream",
     "text": [
      "Update interval 200\n",
      "Save interval 192.1875\n",
      "Initializing cluster centers with k-means.\n",
      "Iter 0: acc = 0.34309, nmi = 0.17840, ari = 0.08446  ; loss= 0\n",
      "saving model to: results/DEC_model_0.h5\n",
      "Iter 200: acc = 0.31301, nmi = 0.17209, ari = 0.05811  ; loss= 0\n",
      "Iter 400: acc = 0.31138, nmi = 0.18503, ari = 0.04649  ; loss= 0\n",
      "Iter 600: acc = 0.30163, nmi = 0.18208, ari = 0.04601  ; loss= 0\n",
      "Iter 800: acc = 0.30894, nmi = 0.17369, ari = 0.05170  ; loss= 0\n",
      "Iter 1000: acc = 0.32033, nmi = 0.17183, ari = 0.04982  ; loss= 0\n",
      "Iter 1200: acc = 0.28455, nmi = 0.19248, ari = 0.06380  ; loss= 0\n",
      "Iter 1400: acc = 0.30650, nmi = 0.19616, ari = 0.05233  ; loss= 0\n",
      "Iter 1600: acc = 0.28293, nmi = 0.18124, ari = 0.04870  ; loss= 0\n",
      "Iter 1800: acc = 0.33089, nmi = 0.18743, ari = 0.05697  ; loss= 0\n",
      "Iter 2000: acc = 0.30163, nmi = 0.19004, ari = 0.06031  ; loss= 0\n",
      "Iter 2200: acc = 0.28862, nmi = 0.18554, ari = 0.05139  ; loss= 0\n",
      "Iter 2400: acc = 0.29268, nmi = 0.18391, ari = 0.05154  ; loss= 0\n",
      "Iter 2600: acc = 0.29512, nmi = 0.18148, ari = 0.04437  ; loss= 0\n",
      "Iter 2800: acc = 0.28537, nmi = 0.18142, ari = 0.04533  ; loss= 0\n",
      "Iter 3000: acc = 0.28618, nmi = 0.18277, ari = 0.04148  ; loss= 0\n",
      "saving model to: results/DEC_model_3075.h5\n",
      "Iter 3200: acc = 0.27561, nmi = 0.18261, ari = 0.04069  ; loss= 0\n",
      "Iter 3400: acc = 0.27642, nmi = 0.17916, ari = 0.04252  ; loss= 0\n",
      "Iter 3600: acc = 0.27805, nmi = 0.17722, ari = 0.04387  ; loss= 0\n",
      "Iter 3800: acc = 0.28049, nmi = 0.18243, ari = 0.05127  ; loss= 0\n",
      "Iter 4000: acc = 0.27724, nmi = 0.17754, ari = 0.04221  ; loss= 0\n",
      "Iter 4200: acc = 0.26992, nmi = 0.17610, ari = 0.03307  ; loss= 0\n",
      "Iter 4400: acc = 0.27317, nmi = 0.17802, ari = 0.04090  ; loss= 0\n",
      "Iter 4600: acc = 0.27642, nmi = 0.17887, ari = 0.04382  ; loss= 0\n",
      "Iter 4800: acc = 0.27561, nmi = 0.17810, ari = 0.04351  ; loss= 0\n",
      "delta_label  0.0008130081300813008 < tol  0.001\n",
      "Reached tolerance threshold. Stopping training.\n",
      "saving model to: results/DEC_model_final.h5\n"
     ]
    }
   ],
   "source": [
    "y_pred = dec.fit(x_train, y=y_train, tol=tol, maxiter=maxiter, batch_size=batch_size,\n",
    "                 update_interval=update_interval, save_dir=save_dir)"
   ]
  },
  {
   "cell_type": "code",
   "execution_count": 30,
   "metadata": {},
   "outputs": [],
   "source": [
    "pred_val = dec.predict(x_test)"
   ]
  },
  {
   "cell_type": "code",
   "execution_count": 31,
   "metadata": {},
   "outputs": [
    {
     "data": {
      "text/plain": [
       "{0, 1, 2, 3, 4, 5, 6}"
      ]
     },
     "execution_count": 31,
     "metadata": {},
     "output_type": "execute_result"
    }
   ],
   "source": [
    "set(pred_val)"
   ]
  },
  {
   "cell_type": "code",
   "execution_count": 32,
   "metadata": {},
   "outputs": [
    {
     "data": {
      "text/plain": [
       "0.3444378344533962"
      ]
     },
     "execution_count": 32,
     "metadata": {},
     "output_type": "execute_result"
    }
   ],
   "source": [
    "normalized_mutual_info_score(y_test, pred_val)"
   ]
  },
  {
   "cell_type": "code",
   "execution_count": 33,
   "metadata": {},
   "outputs": [
    {
     "name": "stdout",
     "output_type": "stream",
     "text": [
      "Score:  0.3444378344533962\n"
     ]
    },
    {
     "data": {
      "image/png": "[encoded data removed]",
      "text/plain": [
       "<Figure size 720x576 with 2 Axes>"
      ]
     },
     "metadata": {
      "needs_background": "light"
     },
     "output_type": "display_data"
    }
   ],
   "source": [
    "%matplotlib inline\n",
    "print('Score: ',normalized_mutual_info_score(y_test, pred_val))\n",
    "visualize_scatter_3D(x_test, labels=pred_val, centers=None)"
   ]
  },
  {
   "cell_type": "code",
   "execution_count": 34,
   "metadata": {},
   "outputs": [
    {
     "data": {
      "text/plain": [
       "(300, 512)"
      ]
     },
     "execution_count": 34,
     "metadata": {},
     "output_type": "execute_result"
    }
   ],
   "source": [
    "x_test.shape"
   ]
  },
  {
   "cell_type": "code",
   "execution_count": null,
   "metadata": {},
   "outputs": [],
   "source": []
  }
 ],
 "metadata": {
  "kernelspec": {
   "display_name": "Python 3",
   "language": "python",
   "name": "python3"
  },
  "language_info": {
   "codemirror_mode": {
    "name": "ipython",
    "version": 3
   },
   "file_extension": ".py",
   "mimetype": "text/x-python",
   "name": "python",
   "nbconvert_exporter": "python",
   "pygments_lexer": "ipython3",
   "version": "3.6.8"
  }
 },
 "nbformat": 4,
 "nbformat_minor": 2
}
