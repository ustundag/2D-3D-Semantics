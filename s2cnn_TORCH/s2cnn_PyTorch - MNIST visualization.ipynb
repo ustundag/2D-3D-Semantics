{
 "cells": [
  {
   "cell_type": "code",
   "execution_count": 1,
   "metadata": {},
   "outputs": [],
   "source": [
    "import sys\n",
    "sys.path.append('C:/Users/ustundag/Desktop/s2cnn_TORCH/')\n",
    "\n",
    "# pylint: disable=E1101,R,C\n",
    "import numpy as np\n",
    "from PIL import Image\n",
    "import matplotlib.pyplot as plt\n",
    "%matplotlib inline\n",
    "\n",
    "import torch\n",
    "import torch.nn as nn\n",
    "import torch.nn.functional as F\n",
    "import torch.utils.data as data_utils\n",
    "from torch.autograd import Variable"
   ]
  },
  {
   "cell_type": "code",
   "execution_count": 65,
   "metadata": {},
   "outputs": [],
   "source": [
    "import gzip\n",
    "import pickle\n",
    "import numpy as np\n",
    "import argparse\n",
    "import lie_learn.spaces.S2 as S2\n",
    "from torchvision import datasets\n",
    "\n",
    "NORTHPOLE_EPSILON = 1e-3\n",
    "\n",
    "def rand_rotation_matrix(deflection=1.0, randnums=None):\n",
    "    \"\"\"\n",
    "    Creates a random rotation matrix.\n",
    "\n",
    "    deflection: the magnitude of the rotation. For 0, no rotation; for 1, competely random\n",
    "    rotation. Small deflection => small perturbation.\n",
    "    randnums: 3 random numbers in the range [0, 1]. If `None`, they will be auto-generated.\n",
    "\n",
    "    # http://blog.lostinmyterminal.com/python/2015/05/12/random-rotation-matrix.html\n",
    "    \"\"\"\n",
    "\n",
    "    if randnums is None:\n",
    "        randnums = np.random.uniform(size=(3,))\n",
    "\n",
    "    theta, phi, z = randnums\n",
    "\n",
    "    theta = theta * 2.0*deflection*np.pi  # Rotation about the pole (Z).\n",
    "    phi = phi * 2.0*np.pi  # For direction of pole deflection.\n",
    "    z = z * 2.0*deflection  # For magnitude of pole deflection.\n",
    "\n",
    "    # Compute a vector V used for distributing points over the sphere\n",
    "    # via the reflection I - V Transpose(V).  This formulation of V\n",
    "    # will guarantee that if x[1] and x[2] are uniformly distributed,\n",
    "    # the reflected points will be uniform on the sphere.  Note that V\n",
    "    # has length sqrt(2) to eliminate the 2 in the Householder matrix.\n",
    "\n",
    "    r = np.sqrt(z)\n",
    "    V = (\n",
    "        np.sin(phi) * r,\n",
    "        np.cos(phi) * r,\n",
    "        np.sqrt(2.0 - z)\n",
    "    )\n",
    "\n",
    "    st = np.sin(theta)\n",
    "    ct = np.cos(theta)\n",
    "\n",
    "    R = np.array(((ct, st, 0), (-st, ct, 0), (0, 0, 1)))\n",
    "\n",
    "    # Construct the rotation matrix  ( V Transpose(V) - I ) R.\n",
    "\n",
    "    M = (np.outer(V, V) - np.eye(3)).dot(R)\n",
    "    return M\n",
    "\n",
    "\n",
    "def rotate_grid(rot, grid):\n",
    "    x, y, z = grid\n",
    "    xyz = np.array((x, y, z))\n",
    "    x_r, y_r, z_r = np.einsum('ij,jab->iab', rot, xyz)\n",
    "    return x_r, y_r, z_r\n",
    "\n",
    "\n",
    "def get_projection_grid(b, grid_type=\"Driscoll-Healy\"):\n",
    "    ''' returns the spherical grid in euclidean\n",
    "    coordinates, where the sphere's center is moved\n",
    "    to (0, 0, 1)'''\n",
    "    theta, phi = S2.meshgrid(b=b, grid_type=grid_type)\n",
    "    x_ = np.sin(theta) * np.cos(phi)\n",
    "    y_ = np.sin(theta) * np.sin(phi)\n",
    "    z_ = np.cos(theta)\n",
    "    return x_, y_, z_\n",
    "\n",
    "\n",
    "def project_sphere_on_xy_plane(grid, projection_origin):\n",
    "    ''' returns xy coordinates on the plane\n",
    "    obtained from projecting each point of\n",
    "    the spherical grid along the ray from\n",
    "    the projection origin through the sphere '''\n",
    "\n",
    "    sx, sy, sz = projection_origin\n",
    "    x, y, z = grid\n",
    "    z = z.copy() + 1\n",
    "\n",
    "    t = -z / (z - sz)\n",
    "    qx = t * (x - sx) + x\n",
    "    qy = t * (y - sy) + y\n",
    "\n",
    "    xmin = 1/2 * (-1 - sx) + -1\n",
    "    ymin = 1/2 * (-1 - sy) + -1\n",
    "\n",
    "    # ensure that plane projection\n",
    "    # ends up on southern hemisphere\n",
    "    rx = (qx - xmin) / (2 * np.abs(xmin))\n",
    "    ry = (qy - ymin) / (2 * np.abs(ymin))\n",
    "\n",
    "    return rx, ry\n",
    "\n",
    "\n",
    "def sample_within_bounds(signal, x, y, bounds):\n",
    "    ''' '''\n",
    "    xmin, xmax, ymin, ymax = bounds\n",
    "\n",
    "    idxs = (xmin <= x) & (x < xmax) & (ymin <= y) & (y < ymax)\n",
    "\n",
    "    if len(signal.shape) > 2:\n",
    "        sample = np.zeros((signal.shape[0], x.shape[0], x.shape[1]))\n",
    "        sample[:, idxs] = signal[:, x[idxs], y[idxs]]\n",
    "    else:\n",
    "        sample = np.zeros((x.shape[0], x.shape[1]))\n",
    "        sample[idxs] = signal[x[idxs], y[idxs]]\n",
    "    return sample\n",
    "\n",
    "\n",
    "def sample_bilinear(signal, rx, ry):\n",
    "    ''' '''\n",
    "\n",
    "    signal_dim_x = signal.shape[1]\n",
    "    signal_dim_y = signal.shape[2]\n",
    "\n",
    "    rx *= signal_dim_x\n",
    "    ry *= signal_dim_y\n",
    "\n",
    "    # discretize sample position\n",
    "    ix = rx.astype(int)\n",
    "    iy = ry.astype(int)\n",
    "\n",
    "    # obtain four sample coordinates\n",
    "    ix0 = ix - 1\n",
    "    iy0 = iy - 1\n",
    "    ix1 = ix + 1\n",
    "    iy1 = iy + 1\n",
    "\n",
    "    bounds = (0, signal_dim_x, 0, signal_dim_y)\n",
    "\n",
    "    # sample signal at each four positions\n",
    "    signal_00 = sample_within_bounds(signal, ix0, iy0, bounds)\n",
    "    signal_10 = sample_within_bounds(signal, ix1, iy0, bounds)\n",
    "    signal_01 = sample_within_bounds(signal, ix0, iy1, bounds)\n",
    "    signal_11 = sample_within_bounds(signal, ix1, iy1, bounds)\n",
    "\n",
    "    # linear interpolation in x-direction\n",
    "    fx1 = (ix1-rx) * signal_00 + (rx-ix0) * signal_10\n",
    "    fx2 = (ix1-rx) * signal_01 + (rx-ix0) * signal_11\n",
    "\n",
    "    # linear interpolation in y-direction\n",
    "    return (iy1 - ry) * fx1 + (ry - iy0) * fx2\n",
    "\n",
    "\n",
    "def project_2d_on_sphere(signal, grid, projection_origin=None):\n",
    "    ''' '''\n",
    "    if projection_origin is None:\n",
    "        projection_origin = (0, 0, 2 + NORTHPOLE_EPSILON)\n",
    "\n",
    "    rx, ry = project_sphere_on_xy_plane(grid, projection_origin)\n",
    "    sample = sample_bilinear(signal, rx, ry)\n",
    "\n",
    "    # ensure that only south hemisphere gets projected\n",
    "    sample *= (grid[2] <= 1).astype(np.float64)\n",
    "\n",
    "    # rescale signal to [0,1]\n",
    "    sample_min = sample.min(axis=(1, 2)).reshape(-1, 1, 1)\n",
    "    sample_max = sample.max(axis=(1, 2)).reshape(-1, 1, 1)\n",
    "\n",
    "    sample = (sample - sample_min) / (sample_max - sample_min)\n",
    "    sample *= 255\n",
    "    sample = sample.astype(np.uint8)\n",
    "    return sample\n",
    "\n",
    "def rgb2gray(rgb):\n",
    "    r, g, b = rgb[:,:,0], rgb[:,:,1], rgb[:,:,2]\n",
    "    return 0.2989 * r + 0.5870 * g + 0.1140 * b"
   ]
  },
  {
   "cell_type": "code",
   "execution_count": 44,
   "metadata": {},
   "outputs": [
    {
     "name": "stdout",
     "output_type": "stream",
     "text": [
      "getting mnist data\n",
      "--------------------------------------------------\n",
      "projecting train data set\n",
      "signals:  (60000, 28, 28) <class 'numpy.ndarray'>\n",
      "chunk- [0 1 2 3 4 5 6 7 8 9] :  (10, 28, 28) <class 'numpy.ndarray'>\n",
      "proje- [0 1 2 3 4 5 6 7 8 9] :  (10, 60, 60) <class 'numpy.ndarray'>\n",
      "10/60000\n",
      "writing pickle\n",
      "done\n"
     ]
    }
   ],
   "source": [
    "import sys; sys.argv=['']; del sys\n",
    "parser = argparse.ArgumentParser()\n",
    "parser.add_argument(\"--bandwidth\",\n",
    "                    help=\"the bandwidth of the S2 signal\",\n",
    "                    type=int,\n",
    "                    default=30,\n",
    "                    required=False)\n",
    "parser.add_argument(\"--noise\",\n",
    "                    help=\"the rotational noise applied on the sphere\",\n",
    "                    type=float,\n",
    "                    default=1.0,\n",
    "                    required=False)\n",
    "parser.add_argument(\"--chunk_size\",\n",
    "                    help=\"size of image chunk with same rotation\",\n",
    "                    type=int,\n",
    "                    default=10,\n",
    "                    required=False)\n",
    "parser.add_argument(\"--mnist_data_folder\",\n",
    "                    help=\"folder for saving the mnist data\",\n",
    "                    type=str,\n",
    "                    default=\"MNIST_data\",\n",
    "                    required=False)\n",
    "parser.add_argument(\"--output_file\",\n",
    "                    help=\"file for saving the data output (.gz file)\",\n",
    "                    type=str,\n",
    "                    default=\"s2_mnist.gz\",\n",
    "                    required=False)\n",
    "parser.add_argument(\"--no_rotate_train\",\n",
    "                    help=\"do not rotate train set\",\n",
    "                    dest='no_rotate_train', action='store_true')\n",
    "parser.add_argument(\"--no_rotate_test\",\n",
    "                    help=\"do not rotate test set\",\n",
    "                    dest='no_rotate_test', action='store_true')\n",
    "\n",
    "args = parser.parse_args()\n",
    "\n",
    "print(\"getting mnist data\")\n",
    "trainset = datasets.MNIST(root=args.mnist_data_folder, train=True, download=True)\n",
    "testset = datasets.MNIST(root=args.mnist_data_folder, train=False, download=True)\n",
    "mnist_train = {}\n",
    "mnist_train['images'] = trainset.train_data.numpy()\n",
    "mnist_train['labels'] = trainset.train_labels.numpy()\n",
    "mnist_test = {}\n",
    "mnist_test['images'] = testset.test_data.numpy()\n",
    "mnist_test['labels'] = testset.test_labels.numpy()\n",
    "\n",
    "grid = get_projection_grid(b=args.bandwidth)\n",
    "# result\n",
    "dataset = {}\n",
    "\n",
    "no_rotate = {\"train\": args.no_rotate_train, \"test\": args.no_rotate_test}\n",
    "print('-'*50)\n",
    "for label, data in zip([\"train\", \"test\"], [mnist_train, mnist_test]):\n",
    "    print(\"projecting {0} data set\".format(label))\n",
    "    current = 0\n",
    "    signals = data['images'].reshape(-1, 28, 28).astype(np.float64)\n",
    "    print(\"signals: \", signals.shape, type(signals))\n",
    "    n_signals = signals.shape[0]\n",
    "    projections = np.ndarray(\n",
    "        (signals.shape[0], 2 * args.bandwidth, 2 * args.bandwidth), dtype=np.uint8)\n",
    "\n",
    "    while current < n_signals:\n",
    "        if not no_rotate[label]:\n",
    "            rot = rand_rotation_matrix(deflection=args.noise)\n",
    "            rotated_grid = rotate_grid(rot, grid)\n",
    "        else:\n",
    "            rotated_grid = grid\n",
    "\n",
    "        idxs = np.arange(current, min(n_signals, current + args.chunk_size))\n",
    "        chunk = signals[idxs]\n",
    "        print(\"chunk-\",idxs,': ', chunk.shape, type(chunk))\n",
    "        proje = project_2d_on_sphere(chunk, rotated_grid)\n",
    "        print(\"proje-\",idxs,': ', proje.shape, type(proje))\n",
    "        projections[idxs] = proje\n",
    "        current += args.chunk_size\n",
    "        print(\"\\r{0}/{1}\".format(current, n_signals), end=\"\")\n",
    "        break\n",
    "\n",
    "    print(\"\")\n",
    "    dataset[label] = {\n",
    "        'images': projections,\n",
    "        'labels': data['labels']\n",
    "    }\n",
    "    break\n",
    "\n",
    "print(\"writing pickle\")\n",
    "with gzip.open(args.output_file, 'wb') as f:\n",
    "    pickle.dump(dataset, f)\n",
    "print(\"done\")"
   ]
  },
  {
   "cell_type": "code",
   "execution_count": 45,
   "metadata": {},
   "outputs": [
    {
     "name": "stdout",
     "output_type": "stream",
     "text": [
      "<class 'numpy.ndarray'>\n",
      "(10000, 28, 28)\n",
      "(10000,)\n",
      "6\n"
     ]
    },
    {
     "data": {
      "image/png": "[encoded data removed]",
      "text/plain": [
       "<Figure size 432x288 with 1 Axes>"
      ]
     },
     "metadata": {
      "needs_background": "light"
     },
     "output_type": "display_data"
    }
   ],
   "source": [
    "asd = torch.load(\"C:/Users/ustundag/Desktop/s2cnn_TORCH/MNIST_data/MNIST/processed/test.pt\")\n",
    "images = asd[0].detach().cpu().numpy()\n",
    "labels = asd[1].detach().cpu().numpy()\n",
    "print(type(images))\n",
    "print(images.shape)\n",
    "print(labels.shape)\n",
    "\n",
    "i = 123\n",
    "print(labels[i])\n",
    "plt.imshow(images[i], cmap='gray')\n",
    "plt.show()"
   ]
  },
  {
   "cell_type": "code",
   "execution_count": 46,
   "metadata": {},
   "outputs": [
    {
     "data": {
      "image/png": "[encoded data removed]",
      "text/plain": [
       "<Figure size 432x288 with 1 Axes>"
      ]
     },
     "metadata": {
      "needs_background": "light"
     },
     "output_type": "display_data"
    }
   ],
   "source": [
    "plt.imshow(chunk[0], cmap='gray')\n",
    "plt.show()"
   ]
  },
  {
   "cell_type": "code",
   "execution_count": 47,
   "metadata": {},
   "outputs": [
    {
     "data": {
      "image/png": "[encoded data removed]",
      "text/plain": [
       "<Figure size 432x288 with 1 Axes>"
      ]
     },
     "metadata": {
      "needs_background": "light"
     },
     "output_type": "display_data"
    }
   ],
   "source": [
    "plt.imshow(proje[0], cmap='gray')\n",
    "plt.show()"
   ]
  },
  {
   "cell_type": "code",
   "execution_count": 49,
   "metadata": {},
   "outputs": [],
   "source": [
    "im = Image.fromarray(proje[0])\n",
    "im.save(\"C:/Users/ustundag/Desktop/555.png\")"
   ]
  },
  {
   "cell_type": "code",
   "execution_count": 74,
   "metadata": {},
   "outputs": [],
   "source": [
    "import sys; sys.argv=['']; del sys\n",
    "parser = argparse.ArgumentParser()\n",
    "parser.add_argument(\"--bandwidth\",\n",
    "                    help=\"the bandwidth of the S2 signal\",\n",
    "                    type=int,\n",
    "                    default=250,\n",
    "                    required=False)\n",
    "\n",
    "args = parser.parse_args()\n",
    "grid = get_projection_grid(b=args.bandwidth)"
   ]
  },
  {
   "cell_type": "code",
   "execution_count": 80,
   "metadata": {},
   "outputs": [
    {
     "name": "stdout",
     "output_type": "stream",
     "text": [
      "(1, 500, 500)\n",
      "(1, 500, 500)\n"
     ]
    },
    {
     "data": {
      "image/png": "[encoded data removed]",
      "text/plain": [
       "<Figure size 432x288 with 1 Axes>"
      ]
     },
     "metadata": {
      "needs_background": "light"
     },
     "output_type": "display_data"
    }
   ],
   "source": [
    "img = Image.open('C:/users/ustundag/Desktop/test_pano_rgb.png')\n",
    "img = img.resize((500,500))\n",
    "img = np.asarray(img)\n",
    "img = rgb2gray(img)\n",
    "img = img[np.newaxis,:,:]\n",
    "print(img.shape)\n",
    "proje = project_2d_on_sphere(img, grid)\n",
    "print(proje.shape)\n",
    "plt.imshow(img[0], cmap='gray')\n",
    "plt.show()"
   ]
  },
  {
   "cell_type": "code",
   "execution_count": 81,
   "metadata": {},
   "outputs": [],
   "source": [
    "im = Image.fromarray(img[0])\n",
    "im = im.convert(\"L\")\n",
    "im.save(\"C:/Users/ustundag/Desktop/image.png\")\n",
    "im = Image.fromarray(proje[0])\n",
    "im = im.convert(\"L\")\n",
    "im.save(\"C:/Users/ustundag/Desktop/proje.png\")"
   ]
  },
  {
   "cell_type": "code",
   "execution_count": null,
   "metadata": {},
   "outputs": [],
   "source": []
  }
 ],
 "metadata": {
  "kernelspec": {
   "display_name": "Python 3",
   "language": "python",
   "name": "python3"
  },
  "language_info": {
   "codemirror_mode": {
    "name": "ipython",
    "version": 3
   },
   "file_extension": ".py",
   "mimetype": "text/x-python",
   "name": "python",
   "nbconvert_exporter": "python",
   "pygments_lexer": "ipython3",
   "version": "3.6.8"
  }
 },
 "nbformat": 4,
 "nbformat_minor": 2
}
