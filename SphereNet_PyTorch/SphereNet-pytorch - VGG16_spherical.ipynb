{
 "cells": [
  {
   "cell_type": "code",
   "execution_count": 2,
   "metadata": {},
   "outputs": [],
   "source": [
    "import torch\n",
    "import numpy as np"
   ]
  },
  {
   "cell_type": "code",
   "execution_count": 3,
   "metadata": {},
   "outputs": [],
   "source": [
    "from spherenet import SphereConv2D, SphereMaxPool2D\n",
    "from torch import nn\n",
    "import torch.nn.functional as F\n",
    "\n",
    "class SphereNet(nn.Module):\n",
    "    def __init__(self):\n",
    "        super(SphereNet, self).__init__()\n",
    "        # conv_block_1\n",
    "        self.conv1_1 = SphereConv2D(1 , 64, stride=1)\n",
    "        self.conv1_2 = SphereConv2D(64, 64, stride=1)\n",
    "        # conv_block_2\n",
    "        self.conv2_1 = SphereConv2D(64 , 128, stride=1)\n",
    "        self.conv2_2 = SphereConv2D(128, 128, stride=1)\n",
    "        # conv_block_3\n",
    "        self.conv3_1 = SphereConv2D(128, 256, stride=1)\n",
    "        self.conv3_2 = SphereConv2D(256, 256, stride=1)\n",
    "        self.conv3_3 = SphereConv2D(256, 256, stride=1)\n",
    "        # conv_block_4\n",
    "        self.conv4_1 = SphereConv2D(256, 512, stride=1)\n",
    "        self.conv4_2 = SphereConv2D(512, 512, stride=1)\n",
    "        self.conv4_3 = SphereConv2D(512, 512, stride=1)\n",
    "        # conv_block_5\n",
    "        self.conv5_1 = SphereConv2D(512, 512, stride=1)\n",
    "        self.conv5_2 = SphereConv2D(512, 512, stride=1)\n",
    "        self.conv5_3 = SphereConv2D(512, 512, stride=1)\n",
    "        self.pool = SphereMaxPool2D(stride=2)\n",
    "        #self.fc = nn.Linear(14400, 10)\n",
    "\n",
    "    def forward(self, x):\n",
    "        x = self.conv1_2(self.conv1_1(x))\n",
    "        x = F.relu(self.pool(x))\n",
    "        x = self.conv2_2(self.conv2_1(x))\n",
    "        x = F.relu(self.pool(x))\n",
    "        x = self.conv3_3(self.conv3_2(self.conv3_1(x)))\n",
    "        x = F.relu(self.pool(x))\n",
    "        x = self.conv4_3(self.conv4_2(self.conv4_1(x)))\n",
    "        x = F.relu(self.pool(x))\n",
    "        x = self.conv5_3(self.conv5_2(self.conv5_1(x)))\n",
    "        #x = F.relu(self.pool(x))\n",
    "        #x = x.view(-1, 14400)  # flatten, [B, C, H, W) -> (B, C*H*W)\n",
    "        #x = self.fc(x)\n",
    "        return x"
   ]
  },
  {
   "cell_type": "code",
   "execution_count": 4,
   "metadata": {},
   "outputs": [
    {
     "name": "stdout",
     "output_type": "stream",
     "text": [
      "torch.Size([1, 1, 224, 224])\n"
     ]
    }
   ],
   "source": [
    "from PIL import Image\n",
    "import torchvision.transforms.functional as tfun\n",
    "\n",
    "def rgb2gray(rgb):\n",
    "    return np.dot(rgb[...,:3], [0.2989, 0.5870, 0.1140])\n",
    "\n",
    "path = 'camera_04a287849657478ea774727e5bff5202_office_3_frame_equirectangular_domain_rgb.png'\n",
    "image = Image.open(path).resize((224,224))\n",
    "data = rgb2gray(np.asarray(image, dtype=np.float32))\n",
    "data = tfun.to_tensor(data)\n",
    "data = data.unsqueeze_(0)\n",
    "#data = data[:,:3,:,:]\n",
    "print(data.shape)"
   ]
  },
  {
   "cell_type": "code",
   "execution_count": 5,
   "metadata": {},
   "outputs": [
    {
     "name": "stderr",
     "output_type": "stream",
     "text": [
      "C:\\Users\\ustundag\\Desktop\\SphereNet_pytorch\\spherenet\\sphere_cnn.py:49: RuntimeWarning: divide by zero encountered in true_divide\n",
      "  new_theta = theta + arctan(x*sin(v) / (rho*cos(phi)*cos(v) - y*sin(phi)*sin(v)))\n"
     ]
    }
   ],
   "source": [
    "device = torch.device('cpu')\n",
    "spheremodel = SphereNet().to(device)\n",
    "out = spheremodel(data.to(device))"
   ]
  },
  {
   "cell_type": "code",
   "execution_count": 6,
   "metadata": {},
   "outputs": [
    {
     "data": {
      "text/plain": [
       "torch.Size([1, 512, 14, 14])"
      ]
     },
     "execution_count": 6,
     "metadata": {},
     "output_type": "execute_result"
    }
   ],
   "source": [
    "out.shape"
   ]
  },
  {
   "cell_type": "code",
   "execution_count": 7,
   "metadata": {},
   "outputs": [
    {
     "name": "stdout",
     "output_type": "stream",
     "text": [
      "conv1.bias torch.Size([32])\n",
      "conv1.weight torch.Size([32, 1, 3, 3])\n",
      "conv2.bias torch.Size([64])\n",
      "conv2.weight torch.Size([64, 32, 3, 3])\n",
      "fc.bias torch.Size([10])\n",
      "fc.weight torch.Size([10, 14400])\n"
     ]
    }
   ],
   "source": [
    "state = torch.load('sphere_model.pkl')\n",
    "for k in sorted(state.keys()):\n",
    "    v = state[k]\n",
    "    print(k, v.shape)"
   ]
  },
  {
   "cell_type": "code",
   "execution_count": null,
   "metadata": {},
   "outputs": [],
   "source": []
  }
 ],
 "metadata": {
  "kernelspec": {
   "display_name": "Python 3",
   "language": "python",
   "name": "python3"
  },
  "language_info": {
   "codemirror_mode": {
    "name": "ipython",
    "version": 3
   },
   "file_extension": ".py",
   "mimetype": "text/x-python",
   "name": "python",
   "nbconvert_exporter": "python",
   "pygments_lexer": "ipython3",
   "version": "3.6.8"
  }
 },
 "nbformat": 4,
 "nbformat_minor": 2
}
