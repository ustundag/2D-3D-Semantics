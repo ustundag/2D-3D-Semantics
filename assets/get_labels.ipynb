{
 "cells": [
  {
   "cell_type": "code",
   "execution_count": 35,
   "metadata": {},
   "outputs": [],
   "source": [
    "from utils import *"
   ]
  },
  {
   "cell_type": "code",
   "execution_count": 36,
   "metadata": {},
   "outputs": [],
   "source": [
    "labels = load_labels('semantic_labels.json')"
   ]
  },
  {
   "cell_type": "code",
   "execution_count": 38,
   "metadata": {},
   "outputs": [
    {
     "data": {
      "text/plain": [
       "9816"
      ]
     },
     "execution_count": 38,
     "metadata": {},
     "output_type": "execute_result"
    }
   ],
   "source": [
    "len(labels)"
   ]
  },
  {
   "cell_type": "code",
   "execution_count": 39,
   "metadata": {},
   "outputs": [],
   "source": [
    "matches = [x for x in labels if 'sofa' in x]"
   ]
  },
  {
   "cell_type": "code",
   "execution_count": 41,
   "metadata": {
    "scrolled": false
   },
   "outputs": [
    {
     "name": "stdout",
     "output_type": "stream",
     "text": [
      "sofa_10_office_9_4\n",
      "sofa_10_office_24_5\n",
      "sofa_11_office_9_4\n",
      "sofa_11_office_38_5\n",
      "sofa_12_office_14_4\n",
      "sofa_13_office_18_4\n",
      "sofa_14_office_22_4\n",
      "sofa_1_conferenceRoom_2_1\n",
      "sofa_1_hallway_2_2\n",
      "sofa_1_lounge_1_3\n",
      "sofa_1_conferenceRoom_1_4\n",
      "sofa_1_conferenceRoom_2_5\n",
      "sofa_1_lounge_1_6\n",
      "sofa_2_office_2_1\n",
      "sofa_2_hallway_5_2\n",
      "sofa_2_lounge_1_3\n",
      "sofa_2_hallway_10_4\n",
      "sofa_2_hallway_1_5\n",
      "sofa_2_lounge_1_6\n",
      "sofa_3_office_3_1\n",
      "sofa_3_hallway_5_2\n",
      "sofa_3_lounge_1_3\n",
      "sofa_3_hallway_10_4\n",
      "sofa_3_hallway_1_5\n",
      "sofa_3_lounge_1_6\n",
      "sofa_4_office_8_1\n",
      "sofa_4_hallway_5_2\n",
      "sofa_4_lounge_1_3\n",
      "sofa_4_hallway_10_4\n",
      "sofa_4_hallway_1_5\n",
      "sofa_4_lounge_1_6\n",
      "sofa_5_office_8_1\n",
      "sofa_5_hallway_10_2\n",
      "sofa_5_office_3_3\n",
      "sofa_5_lobby_1_4\n",
      "sofa_5_hallway_1_5\n",
      "sofa_5_lounge_1_6\n",
      "sofa_6_office_10_1\n",
      "sofa_6_hallway_10_2\n",
      "sofa_6_office_3_3\n",
      "sofa_6_lobby_1_4\n",
      "sofa_6_hallway_4_5\n",
      "sofa_6_lounge_1_6\n",
      "sofa_7_office_3_3\n",
      "sofa_7_lobby_1_4\n",
      "sofa_7_hallway_4_5\n",
      "sofa_7_lounge_1_6\n",
      "sofa_8_office_3_3\n",
      "sofa_8_lobby_1_4\n",
      "sofa_8_hallway_5_5\n",
      "sofa_8_office_1_6\n",
      "sofa_9_office_7_3\n",
      "sofa_9_office_7_4\n",
      "sofa_9_office_9_5\n",
      "sofa_9_office_7_6\n"
     ]
    }
   ],
   "source": [
    "for m in matches:\n",
    "    print(m)"
   ]
  },
  {
   "cell_type": "code",
   "execution_count": 45,
   "metadata": {},
   "outputs": [],
   "source": [
    "types = set(list(map(lambda e : e.split('_')[0], labels)))"
   ]
  },
  {
   "cell_type": "code",
   "execution_count": 47,
   "metadata": {},
   "outputs": [
    {
     "data": {
      "text/plain": [
       "{'<UNK>',\n",
       " 'beam',\n",
       " 'board',\n",
       " 'bookcase',\n",
       " 'ceiling',\n",
       " 'chair',\n",
       " 'clutter',\n",
       " 'column',\n",
       " 'door',\n",
       " 'floor',\n",
       " 'sofa',\n",
       " 'table',\n",
       " 'wall',\n",
       " 'window'}"
      ]
     },
     "execution_count": 47,
     "metadata": {},
     "output_type": "execute_result"
    }
   ],
   "source": [
    "types"
   ]
  },
  {
   "cell_type": "code",
   "execution_count": null,
   "metadata": {},
   "outputs": [],
   "source": []
  }
 ],
 "metadata": {
  "kernelspec": {
   "display_name": "Python 3",
   "language": "python",
   "name": "python3"
  },
  "language_info": {
   "codemirror_mode": {
    "name": "ipython",
    "version": 3
   },
   "file_extension": ".py",
   "mimetype": "text/x-python",
   "name": "python",
   "nbconvert_exporter": "python",
   "pygments_lexer": "ipython3",
   "version": "3.6.8"
  }
 },
 "nbformat": 4,
 "nbformat_minor": 2
}
