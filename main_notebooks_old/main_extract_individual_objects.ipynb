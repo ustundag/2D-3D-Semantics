{
 "cells": [
  {
   "cell_type": "code",
   "execution_count": 2,
   "metadata": {},
   "outputs": [],
   "source": [
    "from __future__ import print_function\n",
    "import assets.utils as u\n",
    "\n",
    "from PIL import Image\n",
    "import glob\n",
    "from scipy.io import savemat, loadmat\n",
    "from IPython.display import display, clear_output\n",
    "import pandas as pd\n",
    "import numpy as np\n",
    "from mpl_toolkits.mplot3d import Axes3D\n",
    "from sklearn.metrics import normalized_mutual_info_score, confusion_matrix\n",
    "import matplotlib.pyplot as plt\n",
    "%matplotlib inline\n",
    "import cv2\n",
    "import time\n",
    "from matplotlib import pyplot\n",
    "import warnings\n",
    "warnings.simplefilter(action='ignore', category=FutureWarning)"
   ]
  },
  {
   "cell_type": "code",
   "execution_count": 3,
   "metadata": {},
   "outputs": [],
   "source": [
    "labels_all = u.load_labels('C:/Users/ustundag/Github/2D-3D-Semantics/assets/semantic_labels.json')"
   ]
  },
  {
   "cell_type": "code",
   "execution_count": 4,
   "metadata": {},
   "outputs": [],
   "source": [
    "# Function to map int labels to object classes\n",
    "def assign_label(object):\n",
    "    switcher = {\n",
    "        'board':    0,\n",
    "        'bookcase': 1,\n",
    "        'chair':    2,\n",
    "        'door':     3,\n",
    "        'sofa':     4,\n",
    "        'table':    5,\n",
    "        'window':   6,\n",
    "        '<UNK>':    7,\n",
    "        'wall':     8,\n",
    "        'beam':     9,\n",
    "        'ceiling':  10,\n",
    "        'clutter':  11,\n",
    "        'column':   12,\n",
    "        'floor':    13\n",
    "    }\n",
    "\n",
    "    return switcher.get(object, 14)"
   ]
  },
  {
   "cell_type": "code",
   "execution_count": 5,
   "metadata": {},
   "outputs": [],
   "source": [
    "def convert_pixel_to_label(pixel):\n",
    "    limit = int(len(labels_all))\n",
    "    i = u.get_index(pixel)\n",
    "    if i < limit:\n",
    "        instance_label = labels_all[i]\n",
    "        instance_label_as_dict = u.parse_label(instance_label)\n",
    "        label = assign_label(instance_label_as_dict[\"instance_class\"])\n",
    "        return int(label)\n",
    "    \n",
    "    return 14 # default as missing data in case index is out of bounds in \"labels.json\" file"
   ]
  },
  {
   "cell_type": "code",
   "execution_count": 6,
   "metadata": {},
   "outputs": [],
   "source": [
    "def save_labels(pixels):\n",
    "    labels_gt = []\n",
    "    for p in pixels:\n",
    "        labels_gt.append(convert_pixel_to_label(p))\n",
    "\n",
    "    return np.array(labels_gt)"
   ]
  },
  {
   "cell_type": "code",
   "execution_count": 7,
   "metadata": {},
   "outputs": [],
   "source": [
    "# Truncate unnecessary objects in both datasets, like <UNK>, beam, ceiling, clutter, column, floor, wall.\n",
    "# unnecessary objects after label=6, see assign_label() function.\n",
    "def truncate_objects(pixels, labels):\n",
    "    indices = np.argwhere(labels > 6)\n",
    "    labels  = np.delete(labels, indices, axis=0)\n",
    "    pixels  = np.delete(pixels, indices, axis=0)\n",
    "    return pixels, labels\n",
    "    '''\n",
    "    a = np.array([[1, 2, 3],\n",
    "               [4, 5, 6],\n",
    "               [7, 8, 9]])\n",
    "    b = np.array([8,4,9])\n",
    "    indices = np.argwhere(b > 4)\n",
    "    a = np.delete(a, indices, axis=0)\n",
    "    b = np.delete(b, indices, axis=0)\n",
    "    '''"
   ]
  },
  {
   "cell_type": "markdown",
   "metadata": {},
   "source": [
    "### Crop individual objects using semantics as a mask"
   ]
  },
  {
   "cell_type": "code",
   "execution_count": 8,
   "metadata": {},
   "outputs": [
    {
     "data": {
      "text/plain": [
       "'1 / 3704'"
      ]
     },
     "metadata": {},
     "output_type": "display_data"
    }
   ],
   "source": [
    "scale = 4  # The more scale down, the less number of unique pixels!\n",
    "path = \"C:\\\\Users\\\\ustundag\\\\GitHub\\\\2D-3D-Semantics\\\\area_3\\\\data\\\\semantic\\\\camera*.png\"\n",
    "i = 0\n",
    "for sem in glob.glob(path):\n",
    "    sem = \"C:\\\\Users\\\\ustundag\\\\Desktop\\\\camera_81a9927c6b224f4bb5e6b9fbdcfae9c0_office_3_frame_25_domain_semantic.png\"\n",
    "    clear_output(wait=True)\n",
    "    # Read and scale down images\n",
    "    mask = np.array(Image.open(sem))\n",
    "    mask = mask[::scale, ::scale]\n",
    "    mask = mask.reshape(mask.shape[0]*mask.shape[1], mask.shape[2])\n",
    "    rgb  = sem.replace(\"semantic\", \"rgb\", 2) # find RGB image counterpart of semantic image\n",
    "    img  = np.array(Image.open(rgb))\n",
    "    img  = img[::scale, ::scale]\n",
    "    img  = img.reshape(img.shape[0]*img.shape[1], img.shape[2])\n",
    "\n",
    "    # Find unique pixels which means different objects and truncate unnecessary parts\n",
    "    pixels = np.unique(mask, axis=0)\n",
    "    labels = save_labels(pixels)\n",
    "    pixels, labels = truncate_objects(pixels, labels)\n",
    "    \n",
    "    j = 0\n",
    "    for p in pixels:\n",
    "        segment = (mask == p).all(axis=1)\n",
    "        obj = img * np.array([segment,segment,segment]).T\n",
    "        lbl = convert_pixel_to_label(p)\n",
    "        filename = 'image'+'_'+str(i)+'_'+'segment'+'_'+str(j)+'_'+'label'+'_'+str(lbl)\n",
    "        Image.fromarray(obj.reshape(270,270,3)).save('C:/Users/ustundag/Github/2D-3D-Semantics/Individual_Objects/'+filename+'.png')\n",
    "        j += 1\n",
    "    \n",
    "    i += 1 # holds image index\n",
    "    display(str(i) + \" / 3704\")\n",
    "    break"
   ]
  },
  {
   "cell_type": "code",
   "execution_count": null,
   "metadata": {},
   "outputs": [],
   "source": []
  },
  {
   "cell_type": "code",
   "execution_count": 9,
   "metadata": {},
   "outputs": [
    {
     "data": {
      "text/plain": [
       "'\\na = np.arange(12,24).reshape(4,3)\\nprint(a)\\nb = np.arange(12).reshape(4,3)\\nb[1][0] = 6\\nprint(b)\\nb = (b == [6,7,8]).all(axis=1)\\n#b = b.astype(np.int)\\nprint(a.shape)\\nprint(np.transpose(b))\\na*np.array([b,b,b]).T\\n'"
      ]
     },
     "execution_count": 9,
     "metadata": {},
     "output_type": "execute_result"
    }
   ],
   "source": [
    "# Masking example\n",
    "\"\"\"\n",
    "a = np.arange(12,24).reshape(4,3)\n",
    "print(a)\n",
    "b = np.arange(12).reshape(4,3)\n",
    "b[1][0] = 6\n",
    "print(b)\n",
    "b = (b == [6,7,8]).all(axis=1)\n",
    "#b = b.astype(np.int)\n",
    "print(a.shape)\n",
    "print(np.transpose(b))\n",
    "a*np.array([b,b,b]).T\n",
    "\"\"\""
   ]
  },
  {
   "cell_type": "code",
   "execution_count": null,
   "metadata": {},
   "outputs": [],
   "source": []
  },
  {
   "cell_type": "code",
   "execution_count": null,
   "metadata": {},
   "outputs": [],
   "source": []
  }
 ],
 "metadata": {
  "kernelspec": {
   "display_name": "Python 3",
   "language": "python",
   "name": "python3"
  },
  "language_info": {
   "codemirror_mode": {
    "name": "ipython",
    "version": 3
   },
   "file_extension": ".py",
   "mimetype": "text/x-python",
   "name": "python",
   "nbconvert_exporter": "python",
   "pygments_lexer": "ipython3",
   "version": "3.6.8"
  }
 },
 "nbformat": 4,
 "nbformat_minor": 2
}
